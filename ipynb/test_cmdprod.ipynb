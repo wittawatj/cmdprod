{
 "cells": [
  {
   "cell_type": "markdown",
   "metadata": {},
   "source": [
    "A notebook to test the developed `cmdperm` package."
   ]
  },
  {
   "cell_type": "code",
   "execution_count": 1,
   "metadata": {},
   "outputs": [
    {
     "name": "stdout",
     "output_type": "stream",
     "text": [
      "The autoreload extension is already loaded. To reload it, use:\n",
      "  %reload_ext autoreload\n"
     ]
    }
   ],
   "source": [
    "%matplotlib inline\n",
    "%load_ext autoreload\n",
    "%autoreload 2\n",
    "\n",
    "#%config InlineBackend.figure_format = 'svg'\n",
    "#%config InlineBackend.figure_format = 'pdf'"
   ]
  },
  {
   "cell_type": "code",
   "execution_count": 7,
   "metadata": {},
   "outputs": [],
   "source": [
    "import cmdprod as cp\n",
    "import numpy as np"
   ]
  },
  {
   "cell_type": "code",
   "execution_count": 16,
   "metadata": {},
   "outputs": [],
   "source": [
    "# pk = cp.Param('k', ['gauss', 'imq'], '--k')\n",
    "# pkparams = cp.Param('kparams', [1, 2], '--kparams')\n",
    "\n",
    "kgroup = cp.ParamGroup(\n",
    "    ['k', 'kparams'], \n",
    "    [('gauss', 1.0), ('imq', [-0.5, 1.0]), ('imq', [-0.5, 10])],\n",
    "    ['--k', '--kparams']  \n",
    ")\n",
    "a = cp.Param('A', ['a0', 'a1', 'a2'])\n",
    "b = cp.Param('B', np.linspace(0, 1, 2))"
   ]
  },
  {
   "cell_type": "code",
   "execution_count": 17,
   "metadata": {},
   "outputs": [
    {
     "name": "stdout",
     "output_type": "stream",
     "text": [
      "script.py --k gauss --kparams 1.0 --A a0 --B 0.0 &\n",
      "script.py --k gauss --kparams 1.0 --A a0 --B 1.0 &\n",
      "script.py --k gauss --kparams 1.0 --A a1 --B 0.0 &\n",
      "script.py --k gauss --kparams 1.0 --A a1 --B 1.0 &\n",
      "script.py --k gauss --kparams 1.0 --A a2 --B 0.0 &\n",
      "script.py --k gauss --kparams 1.0 --A a2 --B 1.0 &\n",
      "script.py --k imq --kparams [-0.5, 1.0] --A a0 --B 0.0 &\n",
      "script.py --k imq --kparams [-0.5, 1.0] --A a0 --B 1.0 &\n",
      "script.py --k imq --kparams [-0.5, 1.0] --A a1 --B 0.0 &\n",
      "script.py --k imq --kparams [-0.5, 1.0] --A a1 --B 1.0 &\n",
      "script.py --k imq --kparams [-0.5, 1.0] --A a2 --B 0.0 &\n",
      "script.py --k imq --kparams [-0.5, 1.0] --A a2 --B 1.0 &\n",
      "script.py --k imq --kparams [-0.5, 10] --A a0 --B 0.0 &\n",
      "script.py --k imq --kparams [-0.5, 10] --A a0 --B 1.0 &\n",
      "script.py --k imq --kparams [-0.5, 10] --A a1 --B 0.0 &\n",
      "script.py --k imq --kparams [-0.5, 10] --A a1 --B 1.0 &\n",
      "script.py --k imq --kparams [-0.5, 10] --A a2 --B 0.0 &\n",
      "script.py --k imq --kparams [-0.5, 10] --A a2 --B 1.0 &\n"
     ]
    }
   ],
   "source": [
    "args = cp.Args([kgroup, a, b])\n",
    "# formatter = cp.IAFArgparse(pv_sep=' ')\n",
    "args_processor = cp.APPrint(prefix='script.py ', suffix=' &\\n')\n",
    "args_processor(args)"
   ]
  },
  {
   "cell_type": "code",
   "execution_count": null,
   "metadata": {},
   "outputs": [],
   "source": []
  },
  {
   "cell_type": "code",
   "execution_count": null,
   "metadata": {},
   "outputs": [],
   "source": []
  },
  {
   "cell_type": "code",
   "execution_count": null,
   "metadata": {},
   "outputs": [],
   "source": []
  },
  {
   "cell_type": "code",
   "execution_count": null,
   "metadata": {},
   "outputs": [],
   "source": []
  },
  {
   "cell_type": "code",
   "execution_count": null,
   "metadata": {},
   "outputs": [],
   "source": []
  },
  {
   "cell_type": "code",
   "execution_count": null,
   "metadata": {},
   "outputs": [],
   "source": []
  },
  {
   "cell_type": "code",
   "execution_count": null,
   "metadata": {},
   "outputs": [],
   "source": []
  },
  {
   "cell_type": "code",
   "execution_count": null,
   "metadata": {},
   "outputs": [],
   "source": []
  },
  {
   "cell_type": "code",
   "execution_count": null,
   "metadata": {},
   "outputs": [],
   "source": []
  },
  {
   "cell_type": "code",
   "execution_count": null,
   "metadata": {},
   "outputs": [],
   "source": []
  },
  {
   "cell_type": "code",
   "execution_count": null,
   "metadata": {},
   "outputs": [],
   "source": []
  },
  {
   "cell_type": "code",
   "execution_count": null,
   "metadata": {},
   "outputs": [],
   "source": []
  },
  {
   "cell_type": "code",
   "execution_count": null,
   "metadata": {},
   "outputs": [],
   "source": []
  }
 ],
 "metadata": {
  "kernelspec": {
   "display_name": "Python 3",
   "language": "python",
   "name": "python3"
  },
  "language_info": {
   "codemirror_mode": {
    "name": "ipython",
    "version": 3
   },
   "file_extension": ".py",
   "mimetype": "text/x-python",
   "name": "python",
   "nbconvert_exporter": "python",
   "pygments_lexer": "ipython3",
   "version": "3.6.4"
  }
 },
 "nbformat": 4,
 "nbformat_minor": 2
}
