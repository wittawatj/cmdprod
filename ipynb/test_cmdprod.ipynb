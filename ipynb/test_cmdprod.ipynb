{
 "cells": [
  {
   "cell_type": "markdown",
   "metadata": {},
   "source": [
    "A notebook to test the developed `cmdperm` package."
   ]
  },
  {
   "cell_type": "code",
   "execution_count": null,
   "metadata": {},
   "outputs": [],
   "source": [
    "%matplotlib inline\n",
    "%load_ext autoreload\n",
    "%autoreload 2\n",
    "\n",
    "#%config InlineBackend.figure_format = 'svg'\n",
    "#%config InlineBackend.figure_format = 'pdf'"
   ]
  },
  {
   "cell_type": "code",
   "execution_count": null,
   "metadata": {},
   "outputs": [],
   "source": [
    "import cmdprod as cp\n",
    "import cmdprod.main as main\n",
    "import numpy as np"
   ]
  },
  {
   "cell_type": "code",
   "execution_count": null,
   "metadata": {},
   "outputs": [],
   "source": [
    "# pk = cp.Param('k', ['gauss', 'imq'], '--k')\n",
    "# pkparams = cp.Param('kparams', [1, 2], '--kparams')\n",
    "\n",
    "kgroup = cp.ParamGroup(\n",
    "    ['k', 'kparams'], \n",
    "    [('gauss', 1.0), ('imq', [-0.5, 1.0]), ('imq', [-0.5, 10])],\n",
    "    ['--k', '--kparams']  \n",
    ")\n",
    "a = cp.Param('A', ['a0', 'a1'])\n",
    "b = cp.Param('B', np.linspace(0, 1, 2))\n",
    "\n",
    "args = cp.Args([kgroup, a, b])"
   ]
  },
  {
   "cell_type": "markdown",
   "metadata": {},
   "source": [
    "## Write as lines"
   ]
  },
  {
   "cell_type": "code",
   "execution_count": null,
   "metadata": {},
   "outputs": [],
   "source": [
    "\n",
    "# formatter = cp.IAFArgparse(pv_sep=' ')\n",
    "args_processor = cp.APPrint(prefix='script.py ', suffix=' &\\n')\n",
    "args_processor.iaf.value_formatter.list_value_sep = ', '\n",
    "args_processor(args)"
   ]
  },
  {
   "cell_type": "markdown",
   "metadata": {},
   "source": [
    "## Write as files"
   ]
  },
  {
   "cell_type": "code",
   "execution_count": null,
   "metadata": {},
   "outputs": [],
   "source": [
    "iaf = cp.IAFArgparse(pv_sep=' \\\\\\n')\n",
    "args_file_proc = cp.APPerBashFile(\n",
    "    dirpath='gen_files/',\n",
    "    create_run_token=True,\n",
    "    iaf=iaf,\n",
    "    file_begin='#!/bin/bash',\n",
    "    file_end='# end of script',\n",
    "    line_begin='echo \"test\" ',\n",
    "    line_end=' # line ends',\n",
    ")\n",
    "args_file_proc(args)"
   ]
  },
  {
   "cell_type": "code",
   "execution_count": null,
   "metadata": {},
   "outputs": [],
   "source": []
  },
  {
   "cell_type": "code",
   "execution_count": null,
   "metadata": {},
   "outputs": [],
   "source": []
  },
  {
   "cell_type": "code",
   "execution_count": null,
   "metadata": {},
   "outputs": [],
   "source": []
  },
  {
   "cell_type": "code",
   "execution_count": null,
   "metadata": {},
   "outputs": [],
   "source": []
  },
  {
   "cell_type": "code",
   "execution_count": null,
   "metadata": {},
   "outputs": [],
   "source": []
  },
  {
   "cell_type": "code",
   "execution_count": null,
   "metadata": {},
   "outputs": [],
   "source": []
  },
  {
   "cell_type": "code",
   "execution_count": null,
   "metadata": {},
   "outputs": [],
   "source": []
  }
 ],
 "metadata": {
  "kernelspec": {
   "display_name": "Python 3",
   "language": "python",
   "name": "python3"
  },
  "language_info": {
   "codemirror_mode": {
    "name": "ipython",
    "version": 3
   },
   "file_extension": ".py",
   "mimetype": "text/x-python",
   "name": "python",
   "nbconvert_exporter": "python",
   "pygments_lexer": "ipython3",
   "version": "3.7.1"
  }
 },
 "nbformat": 4,
 "nbformat_minor": 2
}
